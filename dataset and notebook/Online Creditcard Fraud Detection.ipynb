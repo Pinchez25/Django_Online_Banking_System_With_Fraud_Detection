{
 "cells": [
  {
   "cell_type": "code",
   "execution_count": 1,
   "id": "51f6a1a4",
   "metadata": {},
   "outputs": [],
   "source": [
    "import pandas as pd\n",
    "import numpy as np\n",
    "import matplotlib.pyplot as plt\n",
    "import seaborn as sns\n",
    "from sklearn.model_selection import train_test_split\n",
    "from sklearn.ensemble import RandomForestClassifier\n",
    "from sklearn.metrics import (\n",
    "    accuracy_score,\n",
    "    classification_report, \n",
    "    precision_score, \n",
    "    recall_score, \n",
    "    f1_score, \n",
    "    confusion_matrix\n",
    ")\n",
    "from sklearn.tree import DecisionTreeClassifier\n",
    "from datetime import datetime\n",
    "from imblearn.over_sampling import SMOTE\n",
    "import warnings\n",
    "warnings.filterwarnings('always')"
   ]
  },
  {
   "cell_type": "code",
   "execution_count": 2,
   "id": "e9700ca0",
   "metadata": {},
   "outputs": [
    {
     "data": {
      "text/html": [
       "<div>\n",
       "<style scoped>\n",
       "    .dataframe tbody tr th:only-of-type {\n",
       "        vertical-align: middle;\n",
       "    }\n",
       "\n",
       "    .dataframe tbody tr th {\n",
       "        vertical-align: top;\n",
       "    }\n",
       "\n",
       "    .dataframe thead th {\n",
       "        text-align: right;\n",
       "    }\n",
       "</style>\n",
       "<table border=\"1\" class=\"dataframe\">\n",
       "  <thead>\n",
       "    <tr style=\"text-align: right;\">\n",
       "      <th></th>\n",
       "      <th>first_name</th>\n",
       "      <th>last_name</th>\n",
       "      <th>date_of_birth</th>\n",
       "      <th>sender_card_number</th>\n",
       "      <th>receiver_cc_number</th>\n",
       "      <th>transaction_amount</th>\n",
       "      <th>transaction_date</th>\n",
       "      <th>is_fraud</th>\n",
       "    </tr>\n",
       "  </thead>\n",
       "  <tbody>\n",
       "    <tr>\n",
       "      <th>0</th>\n",
       "      <td>Jacob Salinas</td>\n",
       "      <td>Krista Nolan</td>\n",
       "      <td>2007-05-12</td>\n",
       "      <td>2475480622143887</td>\n",
       "      <td>2529677371753651</td>\n",
       "      <td>74556.99</td>\n",
       "      <td>2022-10-30 04:06:10</td>\n",
       "      <td>0</td>\n",
       "    </tr>\n",
       "    <tr>\n",
       "      <th>1</th>\n",
       "      <td>Lisa Castillo</td>\n",
       "      <td>Ronald Bryan</td>\n",
       "      <td>1959-10-12</td>\n",
       "      <td>2715910999405782</td>\n",
       "      <td>5242998865060315</td>\n",
       "      <td>12784.00</td>\n",
       "      <td>2022-05-20 23:46:49</td>\n",
       "      <td>0</td>\n",
       "    </tr>\n",
       "    <tr>\n",
       "      <th>2</th>\n",
       "      <td>Melanie Gomez</td>\n",
       "      <td>Elizabeth Brown</td>\n",
       "      <td>1914-07-11</td>\n",
       "      <td>5328978080501084</td>\n",
       "      <td>2536338331446248</td>\n",
       "      <td>36781.67</td>\n",
       "      <td>2022-05-23 05:34:45</td>\n",
       "      <td>0</td>\n",
       "    </tr>\n",
       "    <tr>\n",
       "      <th>3</th>\n",
       "      <td>Bradley Evans</td>\n",
       "      <td>Christopher Fisher</td>\n",
       "      <td>2007-10-13</td>\n",
       "      <td>2718649482370361</td>\n",
       "      <td>2276430890454293</td>\n",
       "      <td>86997.56</td>\n",
       "      <td>2022-07-17 19:29:10</td>\n",
       "      <td>0</td>\n",
       "    </tr>\n",
       "    <tr>\n",
       "      <th>4</th>\n",
       "      <td>Trevor Gonzalez</td>\n",
       "      <td>Michael Duncan</td>\n",
       "      <td>1913-04-22</td>\n",
       "      <td>2720731806955949</td>\n",
       "      <td>2513298401142431</td>\n",
       "      <td>64527.42</td>\n",
       "      <td>2022-01-08 09:23:23</td>\n",
       "      <td>0</td>\n",
       "    </tr>\n",
       "  </tbody>\n",
       "</table>\n",
       "</div>"
      ],
      "text/plain": [
       "        first_name           last_name date_of_birth  sender_card_number  \\\n",
       "0    Jacob Salinas        Krista Nolan    2007-05-12    2475480622143887   \n",
       "1    Lisa Castillo        Ronald Bryan    1959-10-12    2715910999405782   \n",
       "2    Melanie Gomez     Elizabeth Brown    1914-07-11    5328978080501084   \n",
       "3    Bradley Evans  Christopher Fisher    2007-10-13    2718649482370361   \n",
       "4  Trevor Gonzalez      Michael Duncan    1913-04-22    2720731806955949   \n",
       "\n",
       "   receiver_cc_number  transaction_amount     transaction_date  is_fraud  \n",
       "0    2529677371753651            74556.99  2022-10-30 04:06:10         0  \n",
       "1    5242998865060315            12784.00  2022-05-20 23:46:49         0  \n",
       "2    2536338331446248            36781.67  2022-05-23 05:34:45         0  \n",
       "3    2276430890454293            86997.56  2022-07-17 19:29:10         0  \n",
       "4    2513298401142431            64527.42  2022-01-08 09:23:23         0  "
      ]
     },
     "execution_count": 2,
     "metadata": {},
     "output_type": "execute_result"
    }
   ],
   "source": [
    "df = pd.read_csv('bank_transactions2.csv')\n",
    "df.head()"
   ]
  },
  {
   "cell_type": "markdown",
   "id": "341eae45",
   "metadata": {},
   "source": [
    "### Exploratory Data Analysis"
   ]
  },
  {
   "cell_type": "code",
   "execution_count": 3,
   "id": "df6f3b45",
   "metadata": {},
   "outputs": [
    {
     "data": {
      "text/html": [
       "<div>\n",
       "<style scoped>\n",
       "    .dataframe tbody tr th:only-of-type {\n",
       "        vertical-align: middle;\n",
       "    }\n",
       "\n",
       "    .dataframe tbody tr th {\n",
       "        vertical-align: top;\n",
       "    }\n",
       "\n",
       "    .dataframe thead th {\n",
       "        text-align: right;\n",
       "    }\n",
       "</style>\n",
       "<table border=\"1\" class=\"dataframe\">\n",
       "  <thead>\n",
       "    <tr style=\"text-align: right;\">\n",
       "      <th></th>\n",
       "      <th>sender_card_number</th>\n",
       "      <th>receiver_cc_number</th>\n",
       "      <th>transaction_amount</th>\n",
       "      <th>is_fraud</th>\n",
       "    </tr>\n",
       "  </thead>\n",
       "  <tbody>\n",
       "    <tr>\n",
       "      <th>count</th>\n",
       "      <td>1.030500e+04</td>\n",
       "      <td>1.030500e+04</td>\n",
       "      <td>10305.000000</td>\n",
       "      <td>10305.000000</td>\n",
       "    </tr>\n",
       "    <tr>\n",
       "      <th>mean</th>\n",
       "      <td>3.140262e+15</td>\n",
       "      <td>3.150055e+15</td>\n",
       "      <td>50127.223444</td>\n",
       "      <td>0.009025</td>\n",
       "    </tr>\n",
       "    <tr>\n",
       "      <th>std</th>\n",
       "      <td>1.277803e+15</td>\n",
       "      <td>1.281568e+15</td>\n",
       "      <td>28808.642168</td>\n",
       "      <td>0.094574</td>\n",
       "    </tr>\n",
       "    <tr>\n",
       "      <th>min</th>\n",
       "      <td>2.221003e+15</td>\n",
       "      <td>2.221027e+15</td>\n",
       "      <td>1.020000</td>\n",
       "      <td>0.000000</td>\n",
       "    </tr>\n",
       "    <tr>\n",
       "      <th>25%</th>\n",
       "      <td>2.269151e+15</td>\n",
       "      <td>2.270615e+15</td>\n",
       "      <td>25275.290000</td>\n",
       "      <td>0.000000</td>\n",
       "    </tr>\n",
       "    <tr>\n",
       "      <th>50%</th>\n",
       "      <td>2.505224e+15</td>\n",
       "      <td>2.512923e+15</td>\n",
       "      <td>50164.520000</td>\n",
       "      <td>0.000000</td>\n",
       "    </tr>\n",
       "    <tr>\n",
       "      <th>75%</th>\n",
       "      <td>2.720955e+15</td>\n",
       "      <td>2.720991e+15</td>\n",
       "      <td>75119.680000</td>\n",
       "      <td>0.000000</td>\n",
       "    </tr>\n",
       "    <tr>\n",
       "      <th>max</th>\n",
       "      <td>5.599609e+15</td>\n",
       "      <td>5.599767e+15</td>\n",
       "      <td>99980.420000</td>\n",
       "      <td>1.000000</td>\n",
       "    </tr>\n",
       "  </tbody>\n",
       "</table>\n",
       "</div>"
      ],
      "text/plain": [
       "       sender_card_number  receiver_cc_number  transaction_amount  \\\n",
       "count        1.030500e+04        1.030500e+04        10305.000000   \n",
       "mean         3.140262e+15        3.150055e+15        50127.223444   \n",
       "std          1.277803e+15        1.281568e+15        28808.642168   \n",
       "min          2.221003e+15        2.221027e+15            1.020000   \n",
       "25%          2.269151e+15        2.270615e+15        25275.290000   \n",
       "50%          2.505224e+15        2.512923e+15        50164.520000   \n",
       "75%          2.720955e+15        2.720991e+15        75119.680000   \n",
       "max          5.599609e+15        5.599767e+15        99980.420000   \n",
       "\n",
       "           is_fraud  \n",
       "count  10305.000000  \n",
       "mean       0.009025  \n",
       "std        0.094574  \n",
       "min        0.000000  \n",
       "25%        0.000000  \n",
       "50%        0.000000  \n",
       "75%        0.000000  \n",
       "max        1.000000  "
      ]
     },
     "execution_count": 3,
     "metadata": {},
     "output_type": "execute_result"
    }
   ],
   "source": [
    "df.describe()"
   ]
  },
  {
   "cell_type": "code",
   "execution_count": 4,
   "id": "10e0e7ab",
   "metadata": {},
   "outputs": [
    {
     "data": {
      "text/plain": [
       "(10305, 8)"
      ]
     },
     "execution_count": 4,
     "metadata": {},
     "output_type": "execute_result"
    }
   ],
   "source": [
    "df.shape"
   ]
  },
  {
   "cell_type": "code",
   "execution_count": 5,
   "id": "7d05a767",
   "metadata": {},
   "outputs": [
    {
     "data": {
      "text/plain": [
       "first_name             object\n",
       "last_name              object\n",
       "date_of_birth          object\n",
       "sender_card_number      int64\n",
       "receiver_cc_number      int64\n",
       "transaction_amount    float64\n",
       "transaction_date       object\n",
       "is_fraud                int64\n",
       "dtype: object"
      ]
     },
     "execution_count": 5,
     "metadata": {},
     "output_type": "execute_result"
    }
   ],
   "source": [
    "df.dtypes"
   ]
  },
  {
   "cell_type": "code",
   "execution_count": 6,
   "id": "e7c6b825",
   "metadata": {},
   "outputs": [
    {
     "data": {
      "text/plain": [
       "False"
      ]
     },
     "execution_count": 6,
     "metadata": {},
     "output_type": "execute_result"
    }
   ],
   "source": [
    "df.isnull().values.any()"
   ]
  },
  {
   "cell_type": "code",
   "execution_count": 7,
   "id": "c5584d9f",
   "metadata": {},
   "outputs": [
    {
     "data": {
      "text/plain": [
       "count    10305.000000\n",
       "mean     50127.223444\n",
       "std      28808.642168\n",
       "min          1.020000\n",
       "25%      25275.290000\n",
       "50%      50164.520000\n",
       "75%      75119.680000\n",
       "max      99980.420000\n",
       "Name: transaction_amount, dtype: float64"
      ]
     },
     "execution_count": 7,
     "metadata": {},
     "output_type": "execute_result"
    }
   ],
   "source": [
    "df.transaction_amount.describe()"
   ]
  },
  {
   "cell_type": "code",
   "execution_count": 8,
   "id": "f086b5fa",
   "metadata": {},
   "outputs": [
    {
     "name": "stdout",
     "output_type": "stream",
     "text": [
      "Outlier fraction: 0.009106933019976499\n",
      "Fraud Cases: 93\n",
      "Valid Cases: 10212\n",
      "Percentage of fraud transactions: 0.9024745269286754 %\n"
     ]
    }
   ],
   "source": [
    "fraud = df[df['is_fraud'] == 1]\n",
    "valid = df[df['is_fraud'] == 0]\n",
    "\n",
    "fraud_percentage = (len(fraud)/(len(fraud)+len(valid))) * 100\n",
    "outlier_fraction = len(fraud) / float(len(valid))\n",
    "\n",
    "print(f'Outlier fraction: {outlier_fraction}')\n",
    "print('Fraud Cases: {}'.format(len(fraud)))\n",
    "print('Valid Cases: {}'.format(len(valid)))\n",
    "print(f\"Percentage of fraud transactions: {fraud_percentage} %\")\n"
   ]
  },
  {
   "cell_type": "code",
   "execution_count": 28,
   "id": "f72c57d9",
   "metadata": {},
   "outputs": [
    {
     "data": {
      "text/html": [
       "<div>\n",
       "<style scoped>\n",
       "    .dataframe tbody tr th:only-of-type {\n",
       "        vertical-align: middle;\n",
       "    }\n",
       "\n",
       "    .dataframe tbody tr th {\n",
       "        vertical-align: top;\n",
       "    }\n",
       "\n",
       "    .dataframe thead th {\n",
       "        text-align: right;\n",
       "    }\n",
       "</style>\n",
       "<table border=\"1\" class=\"dataframe\">\n",
       "  <thead>\n",
       "    <tr style=\"text-align: right;\">\n",
       "      <th></th>\n",
       "      <th>first_name</th>\n",
       "      <th>last_name</th>\n",
       "      <th>date_of_birth</th>\n",
       "      <th>sender_card_number</th>\n",
       "      <th>receiver_cc_number</th>\n",
       "      <th>transaction_amount</th>\n",
       "      <th>transaction_date</th>\n",
       "      <th>is_fraud</th>\n",
       "    </tr>\n",
       "  </thead>\n",
       "  <tbody>\n",
       "    <tr>\n",
       "      <th>16</th>\n",
       "      <td>Robert Ware</td>\n",
       "      <td>Steven Taylor</td>\n",
       "      <td>1927-12-07</td>\n",
       "      <td>2720320488924173</td>\n",
       "      <td>2275860822332657</td>\n",
       "      <td>93979.86</td>\n",
       "      <td>2022-01-14 02:28:27</td>\n",
       "      <td>1</td>\n",
       "    </tr>\n",
       "    <tr>\n",
       "      <th>38</th>\n",
       "      <td>Robert Holmes</td>\n",
       "      <td>Lori White</td>\n",
       "      <td>1921-01-01</td>\n",
       "      <td>2720598931211682</td>\n",
       "      <td>2268601965768060</td>\n",
       "      <td>11818.70</td>\n",
       "      <td>2022-09-13 21:59:31</td>\n",
       "      <td>1</td>\n",
       "    </tr>\n",
       "    <tr>\n",
       "      <th>293</th>\n",
       "      <td>Amy Holmes</td>\n",
       "      <td>Rebekah Mcguire</td>\n",
       "      <td>1921-01-27</td>\n",
       "      <td>2225040394607437</td>\n",
       "      <td>2573604082505399</td>\n",
       "      <td>25965.50</td>\n",
       "      <td>2022-10-06 09:55:11</td>\n",
       "      <td>1</td>\n",
       "    </tr>\n",
       "    <tr>\n",
       "      <th>418</th>\n",
       "      <td>Mario Vasquez</td>\n",
       "      <td>Antonio Barrera</td>\n",
       "      <td>2014-12-04</td>\n",
       "      <td>2707663718129106</td>\n",
       "      <td>2248084477460531</td>\n",
       "      <td>63072.04</td>\n",
       "      <td>2022-04-19 18:40:51</td>\n",
       "      <td>1</td>\n",
       "    </tr>\n",
       "    <tr>\n",
       "      <th>425</th>\n",
       "      <td>Mrs. Alexandra Gentry</td>\n",
       "      <td>Troy Vargas</td>\n",
       "      <td>1929-02-19</td>\n",
       "      <td>2708555739541138</td>\n",
       "      <td>2713523714683823</td>\n",
       "      <td>47978.69</td>\n",
       "      <td>2022-06-23 22:06:01</td>\n",
       "      <td>1</td>\n",
       "    </tr>\n",
       "    <tr>\n",
       "      <th>806</th>\n",
       "      <td>Tiffany Cooper</td>\n",
       "      <td>Sarah Brown</td>\n",
       "      <td>1961-07-11</td>\n",
       "      <td>2720089715825061</td>\n",
       "      <td>2382919813759987</td>\n",
       "      <td>18737.14</td>\n",
       "      <td>2022-02-17 11:46:00</td>\n",
       "      <td>1</td>\n",
       "    </tr>\n",
       "    <tr>\n",
       "      <th>808</th>\n",
       "      <td>William Davis</td>\n",
       "      <td>Benjamin Graham</td>\n",
       "      <td>1917-08-28</td>\n",
       "      <td>2286921609167158</td>\n",
       "      <td>2718829750177462</td>\n",
       "      <td>14400.63</td>\n",
       "      <td>2022-08-11 05:24:43</td>\n",
       "      <td>1</td>\n",
       "    </tr>\n",
       "    <tr>\n",
       "      <th>857</th>\n",
       "      <td>Holly Pena</td>\n",
       "      <td>John Ryan</td>\n",
       "      <td>1934-09-20</td>\n",
       "      <td>2707719612763208</td>\n",
       "      <td>2374965022864001</td>\n",
       "      <td>49123.69</td>\n",
       "      <td>2022-02-19 14:53:26</td>\n",
       "      <td>1</td>\n",
       "    </tr>\n",
       "    <tr>\n",
       "      <th>1431</th>\n",
       "      <td>Jennifer Hill</td>\n",
       "      <td>Robert Benton</td>\n",
       "      <td>1918-08-23</td>\n",
       "      <td>2720606808141633</td>\n",
       "      <td>2224724273133604</td>\n",
       "      <td>91724.14</td>\n",
       "      <td>2022-04-12 02:30:25</td>\n",
       "      <td>1</td>\n",
       "    </tr>\n",
       "    <tr>\n",
       "      <th>1443</th>\n",
       "      <td>Alexander Walters</td>\n",
       "      <td>Olivia Taylor</td>\n",
       "      <td>1964-03-06</td>\n",
       "      <td>5346352801719631</td>\n",
       "      <td>2278119603512681</td>\n",
       "      <td>75316.50</td>\n",
       "      <td>2022-02-19 12:24:10</td>\n",
       "      <td>1</td>\n",
       "    </tr>\n",
       "  </tbody>\n",
       "</table>\n",
       "</div>"
      ],
      "text/plain": [
       "                 first_name        last_name date_of_birth  \\\n",
       "16              Robert Ware    Steven Taylor    1927-12-07   \n",
       "38            Robert Holmes       Lori White    1921-01-01   \n",
       "293              Amy Holmes  Rebekah Mcguire    1921-01-27   \n",
       "418           Mario Vasquez  Antonio Barrera    2014-12-04   \n",
       "425   Mrs. Alexandra Gentry      Troy Vargas    1929-02-19   \n",
       "806          Tiffany Cooper      Sarah Brown    1961-07-11   \n",
       "808           William Davis  Benjamin Graham    1917-08-28   \n",
       "857              Holly Pena        John Ryan    1934-09-20   \n",
       "1431          Jennifer Hill    Robert Benton    1918-08-23   \n",
       "1443      Alexander Walters    Olivia Taylor    1964-03-06   \n",
       "\n",
       "      sender_card_number  receiver_cc_number  transaction_amount  \\\n",
       "16      2720320488924173    2275860822332657            93979.86   \n",
       "38      2720598931211682    2268601965768060            11818.70   \n",
       "293     2225040394607437    2573604082505399            25965.50   \n",
       "418     2707663718129106    2248084477460531            63072.04   \n",
       "425     2708555739541138    2713523714683823            47978.69   \n",
       "806     2720089715825061    2382919813759987            18737.14   \n",
       "808     2286921609167158    2718829750177462            14400.63   \n",
       "857     2707719612763208    2374965022864001            49123.69   \n",
       "1431    2720606808141633    2224724273133604            91724.14   \n",
       "1443    5346352801719631    2278119603512681            75316.50   \n",
       "\n",
       "         transaction_date  is_fraud  \n",
       "16    2022-01-14 02:28:27         1  \n",
       "38    2022-09-13 21:59:31         1  \n",
       "293   2022-10-06 09:55:11         1  \n",
       "418   2022-04-19 18:40:51         1  \n",
       "425   2022-06-23 22:06:01         1  \n",
       "806   2022-02-17 11:46:00         1  \n",
       "808   2022-08-11 05:24:43         1  \n",
       "857   2022-02-19 14:53:26         1  \n",
       "1431  2022-04-12 02:30:25         1  \n",
       "1443  2022-02-19 12:24:10         1  "
      ]
     },
     "execution_count": 28,
     "metadata": {},
     "output_type": "execute_result"
    }
   ],
   "source": [
    "fraud.head(10)"
   ]
  },
  {
   "cell_type": "code",
   "execution_count": 10,
   "id": "39f48316",
   "metadata": {},
   "outputs": [
    {
     "name": "stdout",
     "output_type": "stream",
     "text": [
      "Amount details of the fraudulent transactions\n"
     ]
    },
    {
     "data": {
      "text/plain": [
       "count       93.000000\n",
       "mean     44015.216559\n",
       "std      27859.072532\n",
       "min       1043.880000\n",
       "25%      19058.350000\n",
       "50%      42390.740000\n",
       "75%      63479.730000\n",
       "max      99844.410000\n",
       "Name: transaction_amount, dtype: float64"
      ]
     },
     "execution_count": 10,
     "metadata": {},
     "output_type": "execute_result"
    }
   ],
   "source": [
    "print(\"Amount details of the fraudulent transactions\")\n",
    "fraud.transaction_amount.describe()"
   ]
  },
  {
   "cell_type": "code",
   "execution_count": 11,
   "id": "72110240",
   "metadata": {},
   "outputs": [
    {
     "name": "stdout",
     "output_type": "stream",
     "text": [
      "Amount details of the valid transactions\n"
     ]
    },
    {
     "data": {
      "text/plain": [
       "count    10212.000000\n",
       "mean     50182.885081\n",
       "std      28812.508185\n",
       "min          1.020000\n",
       "25%      25307.405000\n",
       "50%      50233.660000\n",
       "75%      75169.282500\n",
       "max      99980.420000\n",
       "Name: transaction_amount, dtype: float64"
      ]
     },
     "execution_count": 11,
     "metadata": {},
     "output_type": "execute_result"
    }
   ],
   "source": [
    "print(\"Amount details of the valid transactions\")\n",
    "valid.transaction_amount.describe()"
   ]
  },
  {
   "cell_type": "code",
   "execution_count": 12,
   "id": "ecc39199",
   "metadata": {},
   "outputs": [
    {
     "data": {
      "image/png": "[encoded data removed]",
      "text/plain": [
       "<Figure size 640x480 with 1 Axes>"
      ]
     },
     "metadata": {},
     "output_type": "display_data"
    }
   ],
   "source": [
    "LABELS = ['Valid',\"Fraud\"]\n",
    "classes = df.value_counts(df.is_fraud, sort=True)\n",
    "classes.plot(kind='bar',rot=0)\n",
    "plt.title(\"Visualising Transactions\")\n",
    "plt.ylabel(\"Count\")\n",
    "plt.xticks(range(2),LABELS)\n",
    "plt.show()"
   ]
  },
  {
   "cell_type": "code",
   "execution_count": 13,
   "id": "df0b9ab5",
   "metadata": {},
   "outputs": [
    {
     "data": {
      "image/png": "[encoded data removed]",
      "text/plain": [
       "<Figure size 1200x900 with 2 Axes>"
      ]
     },
     "metadata": {},
     "output_type": "display_data"
    }
   ],
   "source": [
    "# Correlation matrix\n",
    "corrmat = df.corr()\n",
    "fig = plt.figure(figsize = (12, 9))\n",
    "sns.heatmap(corrmat, vmax=.8, square=True)\n",
    "# save in a png file\n",
    "plt.savefig('correlation_matrix.png')\n",
    "plt.show()"
   ]
  },
  {
   "cell_type": "markdown",
   "id": "3496c554",
   "metadata": {},
   "source": [
    "## Building a training model"
   ]
  },
  {
   "cell_type": "code",
   "execution_count": 14,
   "id": "cedfb0c3",
   "metadata": {},
   "outputs": [
    {
     "name": "stdout",
     "output_type": "stream",
     "text": [
      "(10305, 3)\n",
      "(10305,)\n"
     ]
    }
   ],
   "source": [
    "# Divide the data into features and targets\n",
    "x = df.drop(['first_name', 'last_name','date_of_birth','transaction_date' ,'is_fraud'], axis=1)\n",
    "Y = df['is_fraud']\n",
    "\n",
    "X = x.values\n",
    "y = Y.values\n",
    "\n",
    "# Get the shape of the data\n",
    "print(X.shape)\n",
    "print(y.shape)"
   ]
  },
  {
   "cell_type": "code",
   "execution_count": 15,
   "id": "685b8729",
   "metadata": {},
   "outputs": [
    {
     "name": "stdout",
     "output_type": "stream",
     "text": [
      "Shape of x_train: (1030, 3)\n",
      "Shape of x_test: (9275, 3)\n"
     ]
    }
   ],
   "source": [
    "# splitting the data into training and test sets\n",
    "x_train, x_test, y_train, y_test = train_test_split(X, y, test_size=0.9, random_state=42)\n",
    "print(f\"Shape of x_train: {x_train.shape}\")\n",
    "print(f\"Shape of x_test: {x_test.shape}\")"
   ]
  },
  {
   "cell_type": "markdown",
   "id": "36ddea5e",
   "metadata": {},
   "source": [
    "> The model"
   ]
  },
  {
   "cell_type": "code",
   "execution_count": 16,
   "id": "1288d1e6",
   "metadata": {},
   "outputs": [],
   "source": [
    "model = RandomForestClassifier(n_estimators=100)"
   ]
  },
  {
   "cell_type": "code",
   "execution_count": 17,
   "id": "186103a5",
   "metadata": {},
   "outputs": [
    {
     "name": "stdout",
     "output_type": "stream",
     "text": [
      "Score: 99.06199460916442\n"
     ]
    }
   ],
   "source": [
    "# Train and evaluate the model\n",
    "model.fit(x_train, y_train)\n",
    "predictions = model.predict(x_test)\n",
    "\n",
    "model_score = model.score(x_test, y_test) * 100\n",
    "\n",
    "print(f'Score: {model_score}')"
   ]
  },
  {
   "cell_type": "code",
   "execution_count": 18,
   "id": "653b31a8",
   "metadata": {},
   "outputs": [
    {
     "name": "stderr",
     "output_type": "stream",
     "text": [
      "C:\\Users\\thuam\\anaconda3\\lib\\site-packages\\sklearn\\metrics\\_classification.py:1318: UndefinedMetricWarning: Precision is ill-defined and being set to 0.0 due to no predicted samples. Use `zero_division` parameter to control this behavior.\n",
      "  _warn_prf(average, modifier, msg_start, len(result))\n"
     ]
    },
    {
     "data": {
      "text/plain": [
       "0.0"
      ]
     },
     "execution_count": 18,
     "metadata": {},
     "output_type": "execute_result"
    }
   ],
   "source": [
    "precision_score(y_test, predictions)"
   ]
  },
  {
   "cell_type": "code",
   "execution_count": 19,
   "id": "6eec6f2e",
   "metadata": {},
   "outputs": [
    {
     "data": {
      "image/png": "[encoded data removed]",
      "text/plain": [
       "<Figure size 640x480 with 2 Axes>"
      ]
     },
     "metadata": {},
     "output_type": "display_data"
    }
   ],
   "source": [
    "\n",
    "mattr = confusion_matrix(y_test, predictions)\n",
    "sns.heatmap(mattr, xticklabels = LABELS, \n",
    "            yticklabels = LABELS, annot = True, fmt =\"d\");\n",
    "plt.title(\"Confusion matrix\")\n",
    "plt.ylabel('True class')\n",
    "plt.xlabel('Predicted class')\n",
    "plt.show()"
   ]
  },
  {
   "cell_type": "markdown",
   "id": "80b1003d",
   "metadata": {},
   "source": [
    "### Addressing the imbalance\n",
    "\n",
    "> If we observe our dataset suffers a serious problem of class imbalance. The genuine (not fraud) transactions are more than 99% with the credit card fraud transactions constituting 0.9%.\n",
    "\n",
    ">>With such a distribution, if we train our model without taking care of the imbalance issues, it predicts the label with higher importance given to genuine transactions (as there is more data about them) and hence obtains more accuracy.\n",
    "\n",
    ">>The class imbalance problem can be solved by various techniques. Oversampling is one of them.\n",
    "\n",
    ">>Oversample the minority class is one of the approaches to address the imbalanced datasets. The easiest solution entails doubling examples in the minority class, even though these examples contribute no new data to the model.\n",
    "\n",
    ">>Instead, new examples may be generated by replicating existing ones. The Synthetic Minority Oversampling Technique, or SMOTE for short, is a method of data augmentation for the minority class."
   ]
  },
  {
   "cell_type": "code",
   "execution_count": 20,
   "id": "96d3bc61",
   "metadata": {},
   "outputs": [
    {
     "name": "stdout",
     "output_type": "stream",
     "text": [
      "Resampled shape of X:  (20424, 3)\n",
      "Resampled shape of Y:  (20424,)\n",
      "Counter({0: 10212, 1: 10212})\n"
     ]
    }
   ],
   "source": [
    "from collections import Counter\n",
    "X_resampled, Y_resampled = SMOTE().fit_resample(X, y)\n",
    "print(\"Resampled shape of X: \", X_resampled.shape)\n",
    "print(\"Resampled shape of Y: \", Y_resampled.shape)\n",
    "\n",
    "value_counts = Counter(Y_resampled)\n",
    "print(value_counts)\n",
    "\n",
    "(train_X, test_X, train_Y, test_Y) = train_test_split(X_resampled, Y_resampled, test_size= 0.5, random_state= 42)"
   ]
  },
  {
   "cell_type": "code",
   "execution_count": 21,
   "id": "bd6f3a51",
   "metadata": {},
   "outputs": [
    {
     "name": "stdout",
     "output_type": "stream",
     "text": [
      "Score: 92.02898550724638\n"
     ]
    }
   ],
   "source": [
    "# Now we use the model to train our data\n",
    "rf_resampled = RandomForestClassifier(n_estimators = 100)\n",
    "rf_resampled.fit(train_X, train_Y)\n",
    "\n",
    "predictions_resampled = rf_resampled.predict(test_X)\n",
    "random_forest_score_resampled = rf_resampled.score(test_X, test_Y) * 100\n",
    "\n",
    "print(f\"Score: {random_forest_score_resampled}\")"
   ]
  },
  {
   "cell_type": "code",
   "execution_count": 22,
   "id": "98c729fb",
   "metadata": {},
   "outputs": [
    {
     "name": "stdout",
     "output_type": "stream",
     "text": [
      "Confusion Matrix - Random Forest\n",
      "[[4549  586]\n",
      " [ 228 4849]]\n"
     ]
    },
    {
     "data": {
      "image/png": "[encoded data removed]",
      "text/plain": [
       "<Figure size 640x480 with 2 Axes>"
      ]
     },
     "metadata": {},
     "output_type": "display_data"
    }
   ],
   "source": [
    "cm_resampled = confusion_matrix(test_Y, predictions_resampled.round())\n",
    "print(\"Confusion Matrix - Random Forest\")\n",
    "print(cm_resampled)\n",
    "\n",
    "mattr = confusion_matrix(test_Y, predictions_resampled)\n",
    "sns.heatmap(mattr, xticklabels = LABELS, \n",
    "            yticklabels = LABELS, annot = True, fmt =\"d\");\n",
    "plt.title(\"Confusion matrix\")\n",
    "plt.ylabel('True class')\n",
    "plt.xlabel('Predicted class')\n",
    "plt.show()"
   ]
  },
  {
   "cell_type": "code",
   "execution_count": 23,
   "id": "6122a522",
   "metadata": {},
   "outputs": [
    {
     "name": "stdout",
     "output_type": "stream",
     "text": [
      "Evaluation of Random Forest Model\n",
      "\n",
      "Accuracy: 0.92029\n",
      "Precision: 0.89218\n",
      "Recall: 0.95509\n",
      "F1-score: 0.92256\n"
     ]
    }
   ],
   "source": [
    "def metrics(actuals, predictions):\n",
    "    print(\"Accuracy: {:.5f}\".format(accuracy_score(actuals, predictions)))\n",
    "    print(\"Precision: {:.5f}\".format(precision_score(actuals, predictions)))\n",
    "    print(\"Recall: {:.5f}\".format(recall_score(actuals, predictions)))\n",
    "    print(\"F1-score: {:.5f}\".format(f1_score(actuals, predictions)))\n",
    "\n",
    "print(\"Evaluation of Random Forest Model\")\n",
    "print()\n",
    "\n",
    "metrics(test_Y, predictions_resampled.round())"
   ]
  },
  {
   "cell_type": "markdown",
   "id": "369458c7",
   "metadata": {},
   "source": [
    "### Serialising the model"
   ]
  },
  {
   "cell_type": "code",
   "execution_count": 24,
   "id": "0865b91b",
   "metadata": {},
   "outputs": [],
   "source": [
    "pd.to_pickle(rf_resampled, r\"C:\\\\Users\\\\thuam\\\\PycharmProjects\\\\Online_Banking_System\\\\ml_model\\\\fraud_detection_model.pickle\")"
   ]
  },
  {
   "cell_type": "markdown",
   "id": "16070553",
   "metadata": {},
   "source": [
    "### Deserialising the model"
   ]
  },
  {
   "cell_type": "code",
   "execution_count": 25,
   "id": "07f454b5",
   "metadata": {},
   "outputs": [],
   "source": [
    "model = pd.read_pickle(r\"C:\\\\Users\\\\thuam\\\\PycharmProjects\\\\Online_Banking_System\\\\ml_model\\\\fraud_detection_model.pickle\")"
   ]
  },
  {
   "cell_type": "code",
   "execution_count": 27,
   "id": "07483a20",
   "metadata": {},
   "outputs": [
    {
     "name": "stdout",
     "output_type": "stream",
     "text": [
      "Enter the cc number of sender: 2720320488924173\n",
      "Enter the cc number of receiver: 2275860822332657\n",
      "Enter the amount to transact: 57456\n",
      "[0]\n"
     ]
    }
   ],
   "source": [
    "sender = int(input(\"Enter the cc number of sender: \"))\n",
    "receiver = int(input(\"Enter the cc number of receiver: \"))\n",
    "amount = float(input(\"Enter the amount to transact: \"))\n",
    "\n",
    "result = model.predict([[sender,receiver,amount]])\n",
    "print(result)"
   ]
  },
  {
   "cell_type": "code",
   "execution_count": null,
   "id": "f7ba6a94",
   "metadata": {},
   "outputs": [],
   "source": []
  }
 ],
 "metadata": {
  "kernelspec": {
   "display_name": "Python 3 (ipykernel)",
   "language": "python",
   "name": "python3"
  },
  "language_info": {
   "codemirror_mode": {
    "name": "ipython",
    "version": 3
   },
   "file_extension": ".py",
   "mimetype": "text/x-python",
   "name": "python",
   "nbconvert_exporter": "python",
   "pygments_lexer": "ipython3",
   "version": "3.9.13"
  }
 },
 "nbformat": 4,
 "nbformat_minor": 5
}
